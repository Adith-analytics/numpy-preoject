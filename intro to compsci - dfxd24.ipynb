{
 "cells": [
  {
   "cell_type": "code",
   "execution_count": null,
   "id": "2ceac79b",
   "metadata": {},
   "outputs": [],
   "source": [
    "#### Section 1 ####\n",
    "\n",
    "#Question 1 \n",
    "#Write a function to generate a Python list that contains random integer data.\n",
    "#The function should take as an argument the desired size of the list. "
   ]
  },
  {
   "cell_type": "code",
   "execution_count": 2,
   "id": "953353ad",
   "metadata": {},
   "outputs": [
    {
     "data": {
      "text/plain": [
       "[10, 6, 10, 6, 9, 8, 3, 8, 2, 5]"
      ]
     },
     "execution_count": 2,
     "metadata": {},
     "output_type": "execute_result"
    }
   ],
   "source": [
    "#answer 1\n",
    "\n",
    "import random\n",
    "\n",
    "def randomlist(n):\n",
    "    \n",
    "    global list\n",
    "    \n",
    "    list = [random.randint(1,10) for x in range(n)]\n",
    "    \n",
    "    return list\n",
    "\n",
    "randomlist(10)\n",
    "\n",
    "#output is a list that contains random integer data.\n"
   ]
  },
  {
   "cell_type": "code",
   "execution_count": 3,
   "id": "378ee025",
   "metadata": {},
   "outputs": [],
   "source": [
    "#Question 2\n",
    "#Write a function that takes a Python list of integer values as an argument and \n",
    "#calculates and returns the cumulative product. E.g. If the input list were [1,3,2,5] \n",
    "#the cumulative product would be the list that contains the values [1,1*3, 1*3*2, \n",
    "#1*3*2*5] = [1,3,6,30]. Your solution should be iterative using a for loop. "
   ]
  },
  {
   "cell_type": "code",
   "execution_count": 4,
   "id": "8f42d9ee",
   "metadata": {},
   "outputs": [
    {
     "name": "stdout",
     "output_type": "stream",
     "text": [
      "[1, 3, 6, 30]\n"
     ]
    }
   ],
   "source": [
    "#answer 2\n",
    "\n",
    "def cumulative_product1(list):\n",
    "    \n",
    "    cumulative_product = []\n",
    "    \n",
    "    product = 1\n",
    "    \n",
    "    for i in list:\n",
    "        product *= i\n",
    "        cumulative_product.append(product)\n",
    "    return cumulative_product\n",
    "\n",
    "\n",
    "list = [1, 3, 2, 5]\n",
    "cumulative_product = cumulative_product1(list)\n",
    "print(cumulative_product)\n",
    "\n",
    "#Cumulative_product1() takes a list of numbers. Two variables were created in this function. \n",
    "#By iterating over the list of numbers, the function multiplies the product variable by the current number\n",
    "#and adds it to the list of cumulative products."
   ]
  },
  {
   "cell_type": "code",
   "execution_count": 5,
   "id": "0d2489f6",
   "metadata": {},
   "outputs": [],
   "source": [
    "#Question 3 \n",
    "\n",
    "#Write a function to generate a NumPy array that contains random integer data. \n",
    "#The function should take as an argument the desired size of the array. "
   ]
  },
  {
   "cell_type": "code",
   "execution_count": 6,
   "id": "cea34895",
   "metadata": {},
   "outputs": [
    {
     "name": "stdout",
     "output_type": "stream",
     "text": [
      "[1 4 8 3 7 8 4 4 4 9]\n"
     ]
    }
   ],
   "source": [
    "#answer 3\n",
    "\n",
    "import numpy as np\n",
    "\n",
    "def random_numpy(n):\n",
    "    \n",
    "    global np_array\n",
    "    \n",
    "    np_array = np.random.randint(1, 11, n)\n",
    "    return np_array\n",
    "\n",
    "array1 = random_numpy(10)\n",
    "\n",
    "print(array1)\n",
    "\n",
    "# I have input the value (1 -11) so it sets the range to (1-10)."
   ]
  },
  {
   "cell_type": "code",
   "execution_count": 7,
   "id": "70767513",
   "metadata": {},
   "outputs": [],
   "source": [
    "#Question 4\n",
    "\n",
    "#Write a function that takes a NumPy array of integers as an argument and applies \n",
    "#the built-in NumPy cumprod function to the input data. You should consider \n",
    "#appropriate error checking."
   ]
  },
  {
   "cell_type": "code",
   "execution_count": 8,
   "id": "39f5d23a",
   "metadata": {},
   "outputs": [
    {
     "name": "stdout",
     "output_type": "stream",
     "text": [
      "[      1       4      32      96     672    5376   21504   86016  344064\n",
      " 3096576]\n"
     ]
    }
   ],
   "source": [
    "import numpy as np\n",
    "\n",
    "def cumulative_product2(array):\n",
    "    \n",
    "    if type(array) != np.ndarray:\n",
    "        raise TypeError(\"array must be a NumPy array\")\n",
    "        \n",
    "    cumulative_product = np.cumprod(array1)\n",
    "    \n",
    "    return cumulative_product\n",
    "\n",
    "\n",
    "cumulative_product = cumulative_product2(array1)\n",
    "\n",
    "print(cumulative_product)\n",
    "\n",
    "#output of the code shows cumulative product of the elements in the array.\n",
    "#The function will raise an error if the input is not an NumPy array."
   ]
  },
  {
   "cell_type": "code",
   "execution_count": 9,
   "id": "e0b41026",
   "metadata": {},
   "outputs": [],
   "source": [
    "#Question 5\n",
    "\n",
    "# Time your functions from Q2 and Q4 on an appropriate range of input sizes \n",
    "#(using your solutions to Q1 and Q3 to generate the inputs). You will likely want to \n",
    "#use the data you collect to draw graphs (using matplotlib) that compare the \n",
    "#performance of your functions."
   ]
  },
  {
   "cell_type": "code",
   "execution_count": 10,
   "id": "82ec5124",
   "metadata": {
    "scrolled": true
   },
   "outputs": [
    {
     "data": {
      "image/png": "[encoded data removed]",
      "text/plain": [
       "<Figure size 432x288 with 1 Axes>"
      ]
     },
     "metadata": {
      "needs_background": "light"
     },
     "output_type": "display_data"
    }
   ],
   "source": [
    "import timeit\n",
    "from IPython.display import clear_output\n",
    "import matplotlib.pyplot as plt\n",
    "import numpy as np\n",
    "\n",
    "def timecumulative_product_list(n):\n",
    "    randomlist(n)\n",
    "    clear_output(wait=True) \n",
    "    return timeit.timeit(stmt=\"cumulative_product1(list)\",globals=globals(),number=100)\n",
    "\n",
    "def timecumulative_product_numpy(n):\n",
    "    random_numpy(n)\n",
    "    clear_output(wait=True) \n",
    "    return timeit.timeit(stmt=\"cumulative_product2(np_array)\",globals=globals(),number=100)\n",
    "    \n",
    "cumulativelist = []\n",
    "numpylist = []    \n",
    "    \n",
    "for x in range (1,3000,2):\n",
    "    cumulativelist.append(timecumulative_product_list(x))   \n",
    "    \n",
    "for x in range (1,3000,2):\n",
    "    numpylist.append(timecumulative_product_numpy(x))\n",
    "    \n",
    "#print(cumulativelist)\n",
    "#print(numpylist)\n",
    "\n",
    "listypoints = np.array(cumulativelist)\n",
    "arrypoints = np.array(numpylist)\n",
    "xpoints = np.array([x for x in range (1,3000,2)])\n",
    "\n",
    "plt.plot(xpoints,listypoints,color=\"red\")\n",
    "plt.plot(xpoints,arrypoints,color=\"blue\")\n",
    "plt.xlabel('Input Size')\n",
    "plt.ylabel('Execution Time (seconds)')\n",
    "plt.show()"
   ]
  },
  {
   "cell_type": "code",
   "execution_count": 11,
   "id": "b5d938b6",
   "metadata": {},
   "outputs": [],
   "source": [
    "#Question 6\n",
    "\n",
    "#Discuss in 250 words or less what your results show. You should consider the \n",
    "#computational complexity of your functions. If you don’t manage to collect any \n",
    "#data you should research and discuss what you would expect the results to show."
   ]
  },
  {
   "cell_type": "code",
   "execution_count": 12,
   "id": "2f295277",
   "metadata": {},
   "outputs": [],
   "source": [
    "#Answer 6\n",
    "\n",
    "#The following results shows the execution times of my functions cumulative_product1() and cumulative_product2(). \n",
    "#The X- axis shows the input size and the Y- axis shows us the execution time in seconds. \n",
    "#I chose the color red to show the execution time of cumulative product_ 1 () function which are lists and blue to show cumulative_product2() which are numpy arrays. \n",
    "#The final results shows us that cumulative_product2() is consistently faster than cumulative_product 1() since Numpy Arrays since the cumulative produce is optimized for vectorized operations, while lists are not. When the input size increases, the difference in execution time between the two functions becomes more pronounced.  \n",
    "#When the input size is 2000, the cumulative product 1() functions takes about 0.25 seconds to execute, on the other hand cumulative_product2() only takes 0.02 seconds. \n",
    "#As a result, cumulative_product2() is about five times faster than cumulative_product1(). Therefore, NumPy arrays are a more efficient way to store and manipulate large amounts of data than lists. \n",
    "#In programs that perform vectorized operations, such as cumulative product, NumPy arrays are recommended instead of list. \n",
    "#This is because NumPy was able to perform multiple operations on different elements of an array at some same time and it  becomes a huge benefit while processing large arrays. \n",
    "#The difference can also because  NumPy arrays are organized contiguously, so they are more memory efficient than lists. As lists are stored as linked lists, if they are not contiguous the memory can be wasted.\n"
   ]
  },
  {
   "cell_type": "code",
   "execution_count": 13,
   "id": "1d00986c",
   "metadata": {},
   "outputs": [],
   "source": [
    "#Question 7\n",
    "\n",
    "#Write a recursive function that takes a Python list and a position index i as \n",
    "#arguments and calculates the cumulative product for the first i+1 values in the list.\n",
    "#E.g. If the input list were [1,3,2,5] and the index value 2, then the output would be\n",
    "#the list [1,3,6]. You should assume index values start from 0 and consider \n",
    "#appropriate error checking."
   ]
  },
  {
   "cell_type": "code",
   "execution_count": 14,
   "id": "3285a683",
   "metadata": {},
   "outputs": [
    {
     "name": "stdout",
     "output_type": "stream",
     "text": [
      "[1, 3, 6]\n"
     ]
    }
   ],
   "source": [
    "#Answer 7\n",
    "\n",
    "def cumulative_product(list, i):\n",
    "    \n",
    "    if i < 0 or i >= len(list):\n",
    "        \n",
    "        raise IndexError(\"error\")\n",
    "        \n",
    "    cumulative_product = []\n",
    "    \n",
    "    for j in range(i + 1):\n",
    "        \n",
    "        if j == 0:\n",
    "            cumulative_product.append(list[j])\n",
    "        else:\n",
    "            cumulative_product.append(cumulative_product[-1] * list[j])\n",
    "\n",
    "    return cumulative_product\n",
    "\n",
    "\n",
    "my_list = [1, 3, 2, 5]\n",
    "\n",
    "index = 2\n",
    "\n",
    "finalresult = cumulative_product(my_list, index)\n",
    "\n",
    "print(finalresult)\n",
    "\n",
    "#The cumulative product function takes my_list and index as arguments.\n",
    "#The output prints the cumulative product just like the examople in the question. "
   ]
  },
  {
   "cell_type": "code",
   "execution_count": 15,
   "id": "ab5b1619",
   "metadata": {},
   "outputs": [],
   "source": [
    "#Section2 \n",
    "#Question 8\n",
    "\n",
    "# Write a function that takes a single integer, x, as an argument and outputs a \n",
    "#Python set containing the divisors of x. E.g. If the input x were 20, then the output \n",
    "#would be {1,2,4,5,10,20}. You should consider the efficiency of your solution.\n",
    "\n"
   ]
  },
  {
   "cell_type": "code",
   "execution_count": 16,
   "id": "ee09124f",
   "metadata": {},
   "outputs": [
    {
     "data": {
      "text/plain": [
       "{1, 2, 4, 5, 10, 20}"
      ]
     },
     "execution_count": 16,
     "metadata": {},
     "output_type": "execute_result"
    }
   ],
   "source": [
    "# Note that I could have simply iterated through each integer leading up to x and checked if the remainder were zero or non-zero,\n",
    "#however, this is not a very efficient method. I used the square root method to determine the divisors.\n",
    "\n",
    "def divisors(x):\n",
    "    \n",
    "    divisors = []\n",
    "    \n",
    "    for i in range(1, int(x**0.5) + 1):\n",
    "        \n",
    "        if x % i == 0:\n",
    "            divisors.append(i)\n",
    "            \n",
    "            if i != x // i:\n",
    "                divisors.append(x // i)\n",
    "    \n",
    "    divisors.append(x)\n",
    "    \n",
    "    return set(divisors)\n",
    "\n",
    "divisors(20)"
   ]
  },
  {
   "cell_type": "code",
   "execution_count": 17,
   "id": "057290e7",
   "metadata": {},
   "outputs": [],
   "source": [
    "#Question 9\n",
    "\n",
    "#Write a function that takes a NumPy array of integers as an argument, and \n",
    "#outputs the greatest common divisor (GCD) of the values in the array. You should \n",
    "#use your function from Q8 to find the divisors of each value in the array and use \n",
    "#appropriate set operations to find the GCD. E.g. If the input array were [20,15,45] \n",
    "#the GCD would be 5 as it is the largest divisor the three values have in common."
   ]
  },
  {
   "cell_type": "code",
   "execution_count": 18,
   "id": "36ccf7b5",
   "metadata": {},
   "outputs": [
    {
     "name": "stdout",
     "output_type": "stream",
     "text": [
      "5\n"
     ]
    }
   ],
   "source": [
    "import numpy as np\n",
    "import math\n",
    "\n",
    "def gcd_of_array(arr):\n",
    "    \n",
    "    common_divisors = divisors(arr[0])\n",
    "\n",
    "    for num in arr[1:]:\n",
    "        divisors1 = divisors(num)\n",
    "        common_divisors = common_divisors.intersection(divisors1)\n",
    "\n",
    "    gcd = max(common_divisors)\n",
    "    \n",
    "    return gcd\n",
    "\n",
    "my_array = np.array([20,15, 45])\n",
    "\n",
    "gcd = gcd_of_array(my_array)\n",
    "\n",
    "print(gcd)\n",
    "\n",
    "# My function uses the set operator \"intersection\" to find what divisors the iterable has in common with the past iterable,\n",
    "#and then returns the maximum of this list.\n"
   ]
  },
  {
   "cell_type": "code",
   "execution_count": 19,
   "id": "19b76085",
   "metadata": {},
   "outputs": [],
   "source": [
    "#Question 10\n",
    "\n",
    "# Write a function that takes a NumPy array of integers as an argument, and \n",
    "#applies the NumPy gcd.reduce function to the input data. You should consider \n",
    "#appropriate error checking."
   ]
  },
  {
   "cell_type": "code",
   "execution_count": 20,
   "id": "1e457fdb",
   "metadata": {},
   "outputs": [
    {
     "name": "stdout",
     "output_type": "stream",
     "text": [
      "5\n"
     ]
    }
   ],
   "source": [
    "def gcd_reduce(arr):\n",
    "    \n",
    "    if type(arr) != np.ndarray:\n",
    "        raise TypeError(\"Input is not a numpy array\")\n",
    "        \n",
    "    if arr.dtype != int:\n",
    "        raise TypeError(\"Input array should consist only of integers\")\n",
    "        \n",
    "    if arr.size == 0:\n",
    "        raise ValueError(\"Input array must not be empty\")    \n",
    "    \n",
    "    gcd = np.gcd.reduce(arr)\n",
    "    return gcd\n",
    "    \n",
    "gcd_reduce(my_array)\n",
    "\n",
    "\n",
    "gcd1 = gcd_reduce(my_array)\n",
    "\n",
    "print(gcd1)\n",
    "\n",
    "#The above function gcd_reduce takes a NumPy array input and returns the greatest common divisor of all elements \n",
    "#stored in the varible my_array.\n",
    "\n",
    "#if statements were created to check if the input is not a numpy array, has only integers and it is not empty.\n",
    "\n",
    "#np.gcd.reduce() operator is used in this question.\n",
    "\n"
   ]
  },
  {
   "cell_type": "code",
   "execution_count": 21,
   "id": "400fb3ba",
   "metadata": {},
   "outputs": [],
   "source": [
    "# Question 11\n",
    "\n",
    "#)Time your functions from Q9 and Q10 on an appropriate range of input sizes \n",
    "#using your solution to Q3 to generate the inputs). Use the data you collect to \n",
    "#draw graphs (using matplotlib) that compare the performance of your functions."
   ]
  },
  {
   "cell_type": "code",
   "execution_count": 27,
   "id": "18f58a50",
   "metadata": {},
   "outputs": [
    {
     "data": {
      "image/png": "[encoded data removed]",
      "text/plain": [
       "<Figure size 432x288 with 1 Axes>"
      ]
     },
     "metadata": {
      "needs_background": "light"
     },
     "output_type": "display_data"
    }
   ],
   "source": [
    "import timeit\n",
    "import matplotlib.pyplot as plt\n",
    "import numpy as np\n",
    "\n",
    "\n",
    "def time_gcd_of_array(n):\n",
    "    random_numpy(n)\n",
    "    return timeit.timeit(stmt=\"gcd_of_array(my_array)\", globals=globals(), number=100)\n",
    "\n",
    "def time_gcd_reduce(n):\n",
    "    random_numpy(n)\n",
    "    return timeit.timeit(stmt=\"gcd_reduce(my_array)\", globals=globals(), number=100)\n",
    "\n",
    "array_sizes = range(1, 300000, 2000)\n",
    "\n",
    "gcd_of_array_times = []\n",
    "gcd_reduce_times = []\n",
    "\n",
    "for size in array_sizes:\n",
    "    gcd_of_array_times.append(time_gcd_of_array(size))\n",
    "    gcd_reduce_times.append(time_gcd_reduce(size))\n",
    "\n",
    "plt.plot(array_sizes, gcd_of_array_times, color=\"red\", label=\"gcd_of_array\")\n",
    "plt.plot(array_sizes, gcd_reduce_times, color=\"blue\", label=\"gcd_reduce\")\n",
    "plt.xlabel('Input Size')\n",
    "plt.ylabel('Execution Time (seconds)')\n",
    "plt.legend()\n",
    "plt.show()"
   ]
  },
  {
   "cell_type": "code",
   "execution_count": null,
   "id": "541386d2",
   "metadata": {},
   "outputs": [],
   "source": [
    "#Question 12 \n",
    "\n",
    "# Discuss in 250 words or less what your results show. You should consider the \n",
    "#computational complexity of your functions. If you don’t manage to collect any \n",
    "#data to discuss you should research and discuss what you would expect the \n",
    "#results to show.\n"
   ]
  },
  {
   "cell_type": "code",
   "execution_count": 25,
   "id": "14bf4621",
   "metadata": {},
   "outputs": [],
   "source": [
    "#Answer 12\n",
    "\n",
    "#Similary to Question 6 it shows the execution time of the functions def gcd_of_array and gcd_reduce. \n",
    "#The x-axis represents the input size ranging from 1-300,000 and the y- axis represents the execution time in seconds.\n",
    "#The input is random integer data from question 3.\n",
    "#The size 2000 denotes the spacing bewttween the input sizes.\n",
    "# As each input array size is represented by size, the loop iterates over array_sizes. \n",
    "#The loop calls time_gcd_of_array(size) and time_gcd_reduce(size) to measure the execution times for gcd_of_array and gcd_reduce with the given input size.\n",
    "#Lists are then updated with execution times. \n",
    "#The gcd_of _array ranges between  0.002 -0.004 seconds while gcd_reduce is under 0.001 seconds.\n",
    "# Therefore, the plot illustrates that gcd_reduce performs better than gcd_of_array  when it comes to execution time.\n",
    "#The difference may be because in .intersection() method it was Iterating through each set and comparing its elements with the others.\n",
    "#On the other hand, gcd.reduce() reduces the dimension by 1 and thus reduces the computational complexity. \n"
   ]
  }
 ],
 "metadata": {
  "kernelspec": {
   "display_name": "Python 3 (ipykernel)",
   "language": "python",
   "name": "python3"
  },
  "language_info": {
   "codemirror_mode": {
    "name": "ipython",
    "version": 3
   },
   "file_extension": ".py",
   "mimetype": "text/x-python",
   "name": "python",
   "nbconvert_exporter": "python",
   "pygments_lexer": "ipython3",
   "version": "3.9.12"
  }
 },
 "nbformat": 4,
 "nbformat_minor": 5
}
